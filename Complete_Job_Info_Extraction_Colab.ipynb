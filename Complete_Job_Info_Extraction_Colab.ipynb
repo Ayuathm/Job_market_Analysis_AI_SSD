{
  "cells": [
    {
      "cell_type": "markdown",
      "metadata": {
        "id": "view-in-github",
        "colab_type": "text"
      },
      "source": [
        "<a href=\"https://colab.research.google.com/github/Ayuathm/Job_market_Analysis_AI_SSD/blob/main/Complete_Job_Info_Extraction_Colab.ipynb\" target=\"_parent\"><img src=\"https://colab.research.google.com/assets/colab-badge.svg\" alt=\"Open In Colab\"/></a>"
      ]
    },
    {
      "cell_type": "markdown",
      "id": "226a8962",
      "metadata": {
        "id": "226a8962"
      },
      "source": [
        "# 🧠 Job Info and Skill Extraction with spaCy in Google Colab"
      ]
    },
    {
      "cell_type": "markdown",
      "id": "df196370",
      "metadata": {
        "id": "df196370"
      },
      "source": [
        "## 🔧 Step 1: Install spaCy and Download the Large Model"
      ]
    },
    {
      "cell_type": "code",
      "execution_count": 1,
      "id": "dc788eb1",
      "metadata": {
        "colab": {
          "base_uri": "https://localhost:8080/"
        },
        "id": "dc788eb1",
        "outputId": "27d40d92-7b05-4202-b035-70ed93d508c6"
      },
      "outputs": [
        {
          "output_type": "stream",
          "name": "stdout",
          "text": [
            "Requirement already satisfied: spacy in /usr/local/lib/python3.11/dist-packages (3.8.6)\n",
            "Collecting spacy\n",
            "  Downloading spacy-3.8.7-cp311-cp311-manylinux_2_17_x86_64.manylinux2014_x86_64.whl.metadata (27 kB)\n",
            "Requirement already satisfied: spacy-legacy<3.1.0,>=3.0.11 in /usr/local/lib/python3.11/dist-packages (from spacy) (3.0.12)\n",
            "Requirement already satisfied: spacy-loggers<2.0.0,>=1.0.0 in /usr/local/lib/python3.11/dist-packages (from spacy) (1.0.5)\n",
            "Requirement already satisfied: murmurhash<1.1.0,>=0.28.0 in /usr/local/lib/python3.11/dist-packages (from spacy) (1.0.12)\n",
            "Requirement already satisfied: cymem<2.1.0,>=2.0.2 in /usr/local/lib/python3.11/dist-packages (from spacy) (2.0.11)\n",
            "Requirement already satisfied: preshed<3.1.0,>=3.0.2 in /usr/local/lib/python3.11/dist-packages (from spacy) (3.0.9)\n",
            "Requirement already satisfied: thinc<8.4.0,>=8.3.4 in /usr/local/lib/python3.11/dist-packages (from spacy) (8.3.6)\n",
            "Requirement already satisfied: wasabi<1.2.0,>=0.9.1 in /usr/local/lib/python3.11/dist-packages (from spacy) (1.1.3)\n",
            "Requirement already satisfied: srsly<3.0.0,>=2.4.3 in /usr/local/lib/python3.11/dist-packages (from spacy) (2.5.1)\n",
            "Requirement already satisfied: catalogue<2.1.0,>=2.0.6 in /usr/local/lib/python3.11/dist-packages (from spacy) (2.0.10)\n",
            "Requirement already satisfied: weasel<0.5.0,>=0.1.0 in /usr/local/lib/python3.11/dist-packages (from spacy) (0.4.1)\n",
            "Requirement already satisfied: typer<1.0.0,>=0.3.0 in /usr/local/lib/python3.11/dist-packages (from spacy) (0.15.3)\n",
            "Requirement already satisfied: tqdm<5.0.0,>=4.38.0 in /usr/local/lib/python3.11/dist-packages (from spacy) (4.67.1)\n",
            "Requirement already satisfied: numpy>=1.19.0 in /usr/local/lib/python3.11/dist-packages (from spacy) (2.0.2)\n",
            "Requirement already satisfied: requests<3.0.0,>=2.13.0 in /usr/local/lib/python3.11/dist-packages (from spacy) (2.32.3)\n",
            "Requirement already satisfied: pydantic!=1.8,!=1.8.1,<3.0.0,>=1.7.4 in /usr/local/lib/python3.11/dist-packages (from spacy) (2.11.4)\n",
            "Requirement already satisfied: jinja2 in /usr/local/lib/python3.11/dist-packages (from spacy) (3.1.6)\n",
            "Requirement already satisfied: setuptools in /usr/local/lib/python3.11/dist-packages (from spacy) (75.2.0)\n",
            "Requirement already satisfied: packaging>=20.0 in /usr/local/lib/python3.11/dist-packages (from spacy) (24.2)\n",
            "Requirement already satisfied: langcodes<4.0.0,>=3.2.0 in /usr/local/lib/python3.11/dist-packages (from spacy) (3.5.0)\n",
            "Requirement already satisfied: language-data>=1.2 in /usr/local/lib/python3.11/dist-packages (from langcodes<4.0.0,>=3.2.0->spacy) (1.3.0)\n",
            "Requirement already satisfied: annotated-types>=0.6.0 in /usr/local/lib/python3.11/dist-packages (from pydantic!=1.8,!=1.8.1,<3.0.0,>=1.7.4->spacy) (0.7.0)\n",
            "Requirement already satisfied: pydantic-core==2.33.2 in /usr/local/lib/python3.11/dist-packages (from pydantic!=1.8,!=1.8.1,<3.0.0,>=1.7.4->spacy) (2.33.2)\n",
            "Requirement already satisfied: typing-extensions>=4.12.2 in /usr/local/lib/python3.11/dist-packages (from pydantic!=1.8,!=1.8.1,<3.0.0,>=1.7.4->spacy) (4.13.2)\n",
            "Requirement already satisfied: typing-inspection>=0.4.0 in /usr/local/lib/python3.11/dist-packages (from pydantic!=1.8,!=1.8.1,<3.0.0,>=1.7.4->spacy) (0.4.1)\n",
            "Requirement already satisfied: charset-normalizer<4,>=2 in /usr/local/lib/python3.11/dist-packages (from requests<3.0.0,>=2.13.0->spacy) (3.4.2)\n",
            "Requirement already satisfied: idna<4,>=2.5 in /usr/local/lib/python3.11/dist-packages (from requests<3.0.0,>=2.13.0->spacy) (3.10)\n",
            "Requirement already satisfied: urllib3<3,>=1.21.1 in /usr/local/lib/python3.11/dist-packages (from requests<3.0.0,>=2.13.0->spacy) (2.4.0)\n",
            "Requirement already satisfied: certifi>=2017.4.17 in /usr/local/lib/python3.11/dist-packages (from requests<3.0.0,>=2.13.0->spacy) (2025.4.26)\n",
            "Requirement already satisfied: blis<1.4.0,>=1.3.0 in /usr/local/lib/python3.11/dist-packages (from thinc<8.4.0,>=8.3.4->spacy) (1.3.0)\n",
            "Requirement already satisfied: confection<1.0.0,>=0.0.1 in /usr/local/lib/python3.11/dist-packages (from thinc<8.4.0,>=8.3.4->spacy) (0.1.5)\n",
            "Requirement already satisfied: click>=8.0.0 in /usr/local/lib/python3.11/dist-packages (from typer<1.0.0,>=0.3.0->spacy) (8.2.1)\n",
            "Requirement already satisfied: shellingham>=1.3.0 in /usr/local/lib/python3.11/dist-packages (from typer<1.0.0,>=0.3.0->spacy) (1.5.4)\n",
            "Requirement already satisfied: rich>=10.11.0 in /usr/local/lib/python3.11/dist-packages (from typer<1.0.0,>=0.3.0->spacy) (13.9.4)\n",
            "Requirement already satisfied: cloudpathlib<1.0.0,>=0.7.0 in /usr/local/lib/python3.11/dist-packages (from weasel<0.5.0,>=0.1.0->spacy) (0.21.1)\n",
            "Requirement already satisfied: smart-open<8.0.0,>=5.2.1 in /usr/local/lib/python3.11/dist-packages (from weasel<0.5.0,>=0.1.0->spacy) (7.1.0)\n",
            "Requirement already satisfied: MarkupSafe>=2.0 in /usr/local/lib/python3.11/dist-packages (from jinja2->spacy) (3.0.2)\n",
            "Requirement already satisfied: marisa-trie>=1.1.0 in /usr/local/lib/python3.11/dist-packages (from language-data>=1.2->langcodes<4.0.0,>=3.2.0->spacy) (1.2.1)\n",
            "Requirement already satisfied: markdown-it-py>=2.2.0 in /usr/local/lib/python3.11/dist-packages (from rich>=10.11.0->typer<1.0.0,>=0.3.0->spacy) (3.0.0)\n",
            "Requirement already satisfied: pygments<3.0.0,>=2.13.0 in /usr/local/lib/python3.11/dist-packages (from rich>=10.11.0->typer<1.0.0,>=0.3.0->spacy) (2.19.1)\n",
            "Requirement already satisfied: wrapt in /usr/local/lib/python3.11/dist-packages (from smart-open<8.0.0,>=5.2.1->weasel<0.5.0,>=0.1.0->spacy) (1.17.2)\n",
            "Requirement already satisfied: mdurl~=0.1 in /usr/local/lib/python3.11/dist-packages (from markdown-it-py>=2.2.0->rich>=10.11.0->typer<1.0.0,>=0.3.0->spacy) (0.1.2)\n",
            "Downloading spacy-3.8.7-cp311-cp311-manylinux_2_17_x86_64.manylinux2014_x86_64.whl (33.0 MB)\n",
            "\u001b[2K   \u001b[90m━━━━━━━━━━━━━━━━━━━━━━━━━━━━━━━━━━━━━━━━\u001b[0m \u001b[32m33.0/33.0 MB\u001b[0m \u001b[31m10.6 MB/s\u001b[0m eta \u001b[36m0:00:00\u001b[0m\n",
            "\u001b[?25hInstalling collected packages: spacy\n",
            "  Attempting uninstall: spacy\n",
            "    Found existing installation: spacy 3.8.6\n",
            "    Uninstalling spacy-3.8.6:\n",
            "      Successfully uninstalled spacy-3.8.6\n",
            "Successfully installed spacy-3.8.7\n",
            "Collecting en-core-web-lg==3.8.0\n",
            "  Downloading https://github.com/explosion/spacy-models/releases/download/en_core_web_lg-3.8.0/en_core_web_lg-3.8.0-py3-none-any.whl (400.7 MB)\n",
            "\u001b[2K     \u001b[90m━━━━━━━━━━━━━━━━━━━━━━━━━━━━━━━━━━━━━━━\u001b[0m \u001b[32m400.7/400.7 MB\u001b[0m \u001b[31m3.9 MB/s\u001b[0m eta \u001b[36m0:00:00\u001b[0m\n",
            "\u001b[?25hInstalling collected packages: en-core-web-lg\n",
            "Successfully installed en-core-web-lg-3.8.0\n",
            "\u001b[38;5;2m✔ Download and installation successful\u001b[0m\n",
            "You can now load the package via spacy.load('en_core_web_lg')\n",
            "\u001b[38;5;3m⚠ Restart to reload dependencies\u001b[0m\n",
            "If you are in a Jupyter or Colab notebook, you may need to restart Python in\n",
            "order to load all the package's dependencies. You can do this by selecting the\n",
            "'Restart kernel' or 'Restart runtime' option.\n"
          ]
        }
      ],
      "source": [
        "!pip install -U spacy\n",
        "!python -m spacy download en_core_web_lg"
      ]
    },
    {
      "cell_type": "markdown",
      "id": "e7a94289",
      "metadata": {
        "id": "e7a94289"
      },
      "source": [
        "## 📦 Step 2: Load Libraries"
      ]
    },
    {
      "cell_type": "code",
      "execution_count": 2,
      "id": "7f5dd275",
      "metadata": {
        "id": "7f5dd275"
      },
      "outputs": [],
      "source": [
        "import pandas as pd\n",
        "import re\n",
        "import spacy\n",
        "from dateutil import parser\n",
        "from google.colab import files"
      ]
    },
    {
      "cell_type": "markdown",
      "id": "2d8e4812",
      "metadata": {
        "id": "2d8e4812"
      },
      "source": [
        "## 📁 Step 3: Upload Your CSV File"
      ]
    },
    {
      "cell_type": "code",
      "execution_count": 3,
      "id": "7cd65478",
      "metadata": {
        "colab": {
          "base_uri": "https://localhost:8080/",
          "height": 74
        },
        "id": "7cd65478",
        "outputId": "c379a098-822e-40d8-c7b2-e9a11a35f3aa"
      },
      "outputs": [
        {
          "output_type": "display_data",
          "data": {
            "text/plain": [
              "<IPython.core.display.HTML object>"
            ],
            "text/html": [
              "\n",
              "     <input type=\"file\" id=\"files-6b04fdde-d00d-4d92-8f76-1b72d795d845\" name=\"files[]\" multiple disabled\n",
              "        style=\"border:none\" />\n",
              "     <output id=\"result-6b04fdde-d00d-4d92-8f76-1b72d795d845\">\n",
              "      Upload widget is only available when the cell has been executed in the\n",
              "      current browser session. Please rerun this cell to enable.\n",
              "      </output>\n",
              "      <script>// Copyright 2017 Google LLC\n",
              "//\n",
              "// Licensed under the Apache License, Version 2.0 (the \"License\");\n",
              "// you may not use this file except in compliance with the License.\n",
              "// You may obtain a copy of the License at\n",
              "//\n",
              "//      http://www.apache.org/licenses/LICENSE-2.0\n",
              "//\n",
              "// Unless required by applicable law or agreed to in writing, software\n",
              "// distributed under the License is distributed on an \"AS IS\" BASIS,\n",
              "// WITHOUT WARRANTIES OR CONDITIONS OF ANY KIND, either express or implied.\n",
              "// See the License for the specific language governing permissions and\n",
              "// limitations under the License.\n",
              "\n",
              "/**\n",
              " * @fileoverview Helpers for google.colab Python module.\n",
              " */\n",
              "(function(scope) {\n",
              "function span(text, styleAttributes = {}) {\n",
              "  const element = document.createElement('span');\n",
              "  element.textContent = text;\n",
              "  for (const key of Object.keys(styleAttributes)) {\n",
              "    element.style[key] = styleAttributes[key];\n",
              "  }\n",
              "  return element;\n",
              "}\n",
              "\n",
              "// Max number of bytes which will be uploaded at a time.\n",
              "const MAX_PAYLOAD_SIZE = 100 * 1024;\n",
              "\n",
              "function _uploadFiles(inputId, outputId) {\n",
              "  const steps = uploadFilesStep(inputId, outputId);\n",
              "  const outputElement = document.getElementById(outputId);\n",
              "  // Cache steps on the outputElement to make it available for the next call\n",
              "  // to uploadFilesContinue from Python.\n",
              "  outputElement.steps = steps;\n",
              "\n",
              "  return _uploadFilesContinue(outputId);\n",
              "}\n",
              "\n",
              "// This is roughly an async generator (not supported in the browser yet),\n",
              "// where there are multiple asynchronous steps and the Python side is going\n",
              "// to poll for completion of each step.\n",
              "// This uses a Promise to block the python side on completion of each step,\n",
              "// then passes the result of the previous step as the input to the next step.\n",
              "function _uploadFilesContinue(outputId) {\n",
              "  const outputElement = document.getElementById(outputId);\n",
              "  const steps = outputElement.steps;\n",
              "\n",
              "  const next = steps.next(outputElement.lastPromiseValue);\n",
              "  return Promise.resolve(next.value.promise).then((value) => {\n",
              "    // Cache the last promise value to make it available to the next\n",
              "    // step of the generator.\n",
              "    outputElement.lastPromiseValue = value;\n",
              "    return next.value.response;\n",
              "  });\n",
              "}\n",
              "\n",
              "/**\n",
              " * Generator function which is called between each async step of the upload\n",
              " * process.\n",
              " * @param {string} inputId Element ID of the input file picker element.\n",
              " * @param {string} outputId Element ID of the output display.\n",
              " * @return {!Iterable<!Object>} Iterable of next steps.\n",
              " */\n",
              "function* uploadFilesStep(inputId, outputId) {\n",
              "  const inputElement = document.getElementById(inputId);\n",
              "  inputElement.disabled = false;\n",
              "\n",
              "  const outputElement = document.getElementById(outputId);\n",
              "  outputElement.innerHTML = '';\n",
              "\n",
              "  const pickedPromise = new Promise((resolve) => {\n",
              "    inputElement.addEventListener('change', (e) => {\n",
              "      resolve(e.target.files);\n",
              "    });\n",
              "  });\n",
              "\n",
              "  const cancel = document.createElement('button');\n",
              "  inputElement.parentElement.appendChild(cancel);\n",
              "  cancel.textContent = 'Cancel upload';\n",
              "  const cancelPromise = new Promise((resolve) => {\n",
              "    cancel.onclick = () => {\n",
              "      resolve(null);\n",
              "    };\n",
              "  });\n",
              "\n",
              "  // Wait for the user to pick the files.\n",
              "  const files = yield {\n",
              "    promise: Promise.race([pickedPromise, cancelPromise]),\n",
              "    response: {\n",
              "      action: 'starting',\n",
              "    }\n",
              "  };\n",
              "\n",
              "  cancel.remove();\n",
              "\n",
              "  // Disable the input element since further picks are not allowed.\n",
              "  inputElement.disabled = true;\n",
              "\n",
              "  if (!files) {\n",
              "    return {\n",
              "      response: {\n",
              "        action: 'complete',\n",
              "      }\n",
              "    };\n",
              "  }\n",
              "\n",
              "  for (const file of files) {\n",
              "    const li = document.createElement('li');\n",
              "    li.append(span(file.name, {fontWeight: 'bold'}));\n",
              "    li.append(span(\n",
              "        `(${file.type || 'n/a'}) - ${file.size} bytes, ` +\n",
              "        `last modified: ${\n",
              "            file.lastModifiedDate ? file.lastModifiedDate.toLocaleDateString() :\n",
              "                                    'n/a'} - `));\n",
              "    const percent = span('0% done');\n",
              "    li.appendChild(percent);\n",
              "\n",
              "    outputElement.appendChild(li);\n",
              "\n",
              "    const fileDataPromise = new Promise((resolve) => {\n",
              "      const reader = new FileReader();\n",
              "      reader.onload = (e) => {\n",
              "        resolve(e.target.result);\n",
              "      };\n",
              "      reader.readAsArrayBuffer(file);\n",
              "    });\n",
              "    // Wait for the data to be ready.\n",
              "    let fileData = yield {\n",
              "      promise: fileDataPromise,\n",
              "      response: {\n",
              "        action: 'continue',\n",
              "      }\n",
              "    };\n",
              "\n",
              "    // Use a chunked sending to avoid message size limits. See b/62115660.\n",
              "    let position = 0;\n",
              "    do {\n",
              "      const length = Math.min(fileData.byteLength - position, MAX_PAYLOAD_SIZE);\n",
              "      const chunk = new Uint8Array(fileData, position, length);\n",
              "      position += length;\n",
              "\n",
              "      const base64 = btoa(String.fromCharCode.apply(null, chunk));\n",
              "      yield {\n",
              "        response: {\n",
              "          action: 'append',\n",
              "          file: file.name,\n",
              "          data: base64,\n",
              "        },\n",
              "      };\n",
              "\n",
              "      let percentDone = fileData.byteLength === 0 ?\n",
              "          100 :\n",
              "          Math.round((position / fileData.byteLength) * 100);\n",
              "      percent.textContent = `${percentDone}% done`;\n",
              "\n",
              "    } while (position < fileData.byteLength);\n",
              "  }\n",
              "\n",
              "  // All done.\n",
              "  yield {\n",
              "    response: {\n",
              "      action: 'complete',\n",
              "    }\n",
              "  };\n",
              "}\n",
              "\n",
              "scope.google = scope.google || {};\n",
              "scope.google.colab = scope.google.colab || {};\n",
              "scope.google.colab._files = {\n",
              "  _uploadFiles,\n",
              "  _uploadFilesContinue,\n",
              "};\n",
              "})(self);\n",
              "</script> "
            ]
          },
          "metadata": {}
        },
        {
          "output_type": "stream",
          "name": "stdout",
          "text": [
            "Saving extracted_job_texts.csv to extracted_job_texts.csv\n"
          ]
        }
      ],
      "source": [
        "uploaded = files.upload()\n",
        "df = pd.read_csv(next(iter(uploaded)))"
      ]
    },
    {
      "cell_type": "markdown",
      "id": "a3b44087",
      "metadata": {
        "id": "a3b44087"
      },
      "source": [
        "## 🧹 Step 4: Clean the Text"
      ]
    },
    {
      "cell_type": "code",
      "execution_count": 4,
      "id": "0bbfb492",
      "metadata": {
        "id": "0bbfb492"
      },
      "outputs": [],
      "source": [
        "def clean_text(text):\n",
        "    text = re.sub(r'(CamScanner|Page\\s\\d+|\\s*@\\s*)', ' ', text, flags=re.IGNORECASE)\n",
        "    text = re.sub(r'[^\\x00-\\x7F]+', ' ', text)\n",
        "    text = re.sub(r'\\n{2,}', '\\n', text)\n",
        "    text = re.sub(r'\\s{2,}', ' ', text)\n",
        "    return text.strip()\n",
        "\n",
        "df['cleaned_text'] = df['text'].apply(clean_text)"
      ]
    },
    {
      "cell_type": "markdown",
      "id": "a20acbae",
      "metadata": {
        "id": "a20acbae"
      },
      "source": [
        "## 📌 Step 5: Load spaCy and Define Extractors"
      ]
    },
    {
      "cell_type": "code",
      "execution_count": 5,
      "id": "00e76cd5",
      "metadata": {
        "id": "00e76cd5"
      },
      "outputs": [],
      "source": [
        "nlp = spacy.load('en_core_web_lg')\n",
        "\n",
        "# Predefined skill keywords\n",
        "predefined_skills = set([\n",
        "    'python', 'java', 'excel', 'word', 'powerpoint', 'sql', 'r', 'gis', 'arcgis',\n",
        "    'monitoring', 'evaluation', 'communication', 'leadership', 'report writing',\n",
        "    'project management', 'budgeting', 'data analysis', 'problem solving', 'teamwork',\n",
        "    'procurement', 'logistics', 'negotiation', 'networking', 'supervision',\n",
        "    'customer service', 'human resources', 'training', 'coaching', 'facilitation',\n",
        "    'presentation', 'graphic design', 'research', 'documentation', 'compliance'\n",
        "])\n",
        "\n",
        "def clean_skill_phrase(phrase):\n",
        "    phrase = phrase.strip('.,;:-() ').title()\n",
        "    if len(phrase) < 3:\n",
        "        return None\n",
        "    blacklist = {'Terms', 'Summary', 'Position', 'Page', 'Section', 'Introduction', 'Document'}\n",
        "    words = set(phrase.lower().split())\n",
        "    if words & {w.lower() for w in blacklist}:\n",
        "        return None\n",
        "    return phrase\n",
        "\n",
        "def extract_skills(text):\n",
        "    doc = nlp(text.lower())\n",
        "    extracted = set()\n",
        "    for token in doc:\n",
        "        if token.text in predefined_skills:\n",
        "            extracted.add(token.text.title())\n",
        "    for chunk in doc.noun_chunks:\n",
        "        cleaned = clean_skill_phrase(chunk.text)\n",
        "        if cleaned:\n",
        "            extracted.add(cleaned)\n",
        "    return ', '.join(sorted(extracted)) if extracted else 'Not Found'"
      ]
    },
    {
      "cell_type": "markdown",
      "id": "32d45519",
      "metadata": {
        "id": "32d45519"
      },
      "source": [
        "## 🧠 Step 6: Extract Job Title, Location, and Posted Date"
      ]
    },
    {
      "cell_type": "code",
      "execution_count": 6,
      "id": "2f5f54ec",
      "metadata": {
        "id": "2f5f54ec"
      },
      "outputs": [],
      "source": [
        "def extract_job_title(text):\n",
        "    patterns = [\n",
        "        r'(job title|position|title|vacancy)[:\\-]?\\s*(.+)',\n",
        "        r'we are looking for[:\\-]?\\s*(.+)',\n",
        "        r'role[:\\-]?\\s*(.+)',\n",
        "        r'job opening[:\\-]?\\s*(.+)',\n",
        "        r'recruiting[:\\-]?\\s*(.+)'\n",
        "    ]\n",
        "    lines = text.strip().split('\\n')[:20]\n",
        "    for line in lines:\n",
        "        for pattern in patterns:\n",
        "            match = re.search(pattern, line, re.IGNORECASE)\n",
        "            if match:\n",
        "                return match.group(2).strip()\n",
        "    return 'Unknown'\n",
        "\n",
        "known_places = [\n",
        "    'Juba', 'Wau', 'Malakal', 'Bor', 'Yambio', 'Rumbek', 'Aweil', 'Yei', 'Torit',\n",
        "    'Bentiu', 'Terekeeka', 'Kapoeta', 'Maridi', 'Tonj', 'Abyei', 'Pibor', 'Akobo',\n",
        "    'Leer', 'Renk', 'Kodok', 'Paloich', 'Tali', 'Magwi', 'Koch', 'Pariang'\n",
        "]\n",
        "def extract_location(text):\n",
        "    for place in known_places:\n",
        "        if re.search(rf'\\b{place}\\b', text, re.IGNORECASE):\n",
        "            return place\n",
        "    return 'Unknown'\n",
        "\n",
        "def extract_posting_date(text):\n",
        "    for pattern in [\n",
        "        r'\\b(\\d{1,2}\\s+\\w+\\s+\\d{4})\\b',\n",
        "        r'\\b(\\w+\\s+\\d{1,2},\\s+\\d{4})\\b',\n",
        "        r'\\b(\\d{4}-\\d{2}-\\d{2})\\b'\n",
        "    ]:\n",
        "        match = re.search(pattern, text)\n",
        "        if match:\n",
        "            try:\n",
        "                return parser.parse(match.group(1), fuzzy=True).strftime('%Y-%m-%d')\n",
        "            except:\n",
        "                pass\n",
        "    return 'Unknown'"
      ]
    },
    {
      "cell_type": "markdown",
      "id": "b3a1f6c4",
      "metadata": {
        "id": "b3a1f6c4"
      },
      "source": [
        "## ✅ Step 7: Apply All Extractors"
      ]
    },
    {
      "cell_type": "code",
      "execution_count": 7,
      "id": "ddc86c7c",
      "metadata": {
        "id": "ddc86c7c"
      },
      "outputs": [],
      "source": [
        "df['skills'] = df['cleaned_text'].apply(extract_skills)\n",
        "df['job_title'] = df['cleaned_text'].apply(extract_job_title)\n",
        "df['location'] = df['cleaned_text'].apply(extract_location)\n",
        "df['posting_date'] = df['cleaned_text'].apply(extract_posting_date)"
      ]
    },
    {
      "cell_type": "markdown",
      "id": "35c63e2f",
      "metadata": {
        "id": "35c63e2f"
      },
      "source": [
        "## 🏢 Step 8: Add Organization, Sector, and Job Type Extraction"
      ]
    },
    {
      "cell_type": "code",
      "execution_count": 8,
      "id": "32690581",
      "metadata": {
        "id": "32690581"
      },
      "outputs": [],
      "source": [
        "def extract_organization(text):\n",
        "    known_orgs = [\n",
        "        'Save the Children', 'ZOA', 'UNICEF', 'UNHCR', 'WFP', 'IRC', 'CARE', 'World Vision', 'Medair', 'ACTED',\n",
        "        'Plan International', 'Danish Refugee Council', 'Oxfam', 'CAFOD', 'Caritas', 'ADRA', 'Cordaid',\n",
        "        'Concern Worldwide', 'Norwegian Refugee Council', 'CTG', 'GOAL', 'GIZ', 'Mercy Corps', 'INTERSOS',\n",
        "        'Catholic Relief Services', 'UNDP', 'FAO', 'WHO', 'MSF', 'IOM', 'ACF', 'War Child'\n",
        "    ]\n",
        "    lines = text.strip().split('\\n')[:30]\n",
        "    for line in lines:\n",
        "        for org in known_orgs:\n",
        "            if org.lower() in line.lower():\n",
        "                return org\n",
        "    return 'Unknown'\n",
        "\n",
        "def classify_sector(text):\n",
        "    sectors = {\n",
        "        'Education': ['school', 'education', 'teacher', 'training'],\n",
        "        'Health': ['health', 'clinic', 'medical', 'nutrition', 'hiv', 'malaria'],\n",
        "        'Humanitarian': ['ngo', 'unicef', 'humanitarian', 'relief', 'emergency', 'refugee'],\n",
        "        'Agriculture': ['farm', 'agriculture', 'livestock', 'crop'],\n",
        "        'Logistics': ['logistics', 'transport', 'fleet', 'supply chain'],\n",
        "        'Finance': ['finance', 'accounting', 'audit', 'budget', 'grants', 'payroll'],\n",
        "        'WASH': ['water', 'sanitation', 'hygiene'],\n",
        "        'Protection': ['protection', 'gender', 'child protection', 'gbv'],\n",
        "        'ICT': ['ict', 'information technology', 'systems', 'database', 'network']\n",
        "    }\n",
        "    for sector, keywords in sectors.items():\n",
        "        for kw in keywords:\n",
        "            if re.search(rf'\\b{kw}\\b', text, re.IGNORECASE):\n",
        "                return sector\n",
        "    return 'Unknown'\n",
        "\n",
        "def classify_job_type(text):\n",
        "    job_types = {\n",
        "        'Full-time': ['full time', 'permanent', 'long-term', 'staff position'],\n",
        "        'Part-time': ['part time', 'temporary', 'short-term', 'casual'],\n",
        "        'Consultancy': ['consultant', 'consultancy', 'contract basis', 'individual contractor'],\n",
        "        'Internship': ['intern', 'internship', 'trainee'],\n",
        "        'Volunteer': ['volunteer', 'voluntary service']\n",
        "    }\n",
        "    for jtype, keywords in job_types.items():\n",
        "        for kw in keywords:\n",
        "            if re.search(rf'\\b{kw}\\b', text, re.IGNORECASE):\n",
        "                return jtype\n",
        "    return 'Unclassified'"
      ]
    },
    {
      "cell_type": "markdown",
      "id": "fde0cc46",
      "metadata": {
        "id": "fde0cc46"
      },
      "source": [
        "## 🔄 Step 9: Apply All New Extractors"
      ]
    },
    {
      "cell_type": "code",
      "execution_count": 9,
      "id": "c1190ba8",
      "metadata": {
        "id": "c1190ba8"
      },
      "outputs": [],
      "source": [
        "df['organization'] = df['cleaned_text'].apply(extract_organization)\n",
        "df['sector'] = df['cleaned_text'].apply(classify_sector)\n",
        "df['job_type'] = df['cleaned_text'].apply(classify_job_type)"
      ]
    },
    {
      "cell_type": "markdown",
      "id": "93db250a",
      "metadata": {
        "id": "93db250a"
      },
      "source": [
        "## 💾 Step 10: Export All Job Info"
      ]
    },
    {
      "cell_type": "code",
      "execution_count": 10,
      "id": "20c79058",
      "metadata": {
        "colab": {
          "base_uri": "https://localhost:8080/",
          "height": 17
        },
        "id": "20c79058",
        "outputId": "09f7f397-2f96-4b30-d52e-ffd86b9ef4c4"
      },
      "outputs": [
        {
          "output_type": "display_data",
          "data": {
            "text/plain": [
              "<IPython.core.display.Javascript object>"
            ],
            "application/javascript": [
              "\n",
              "    async function download(id, filename, size) {\n",
              "      if (!google.colab.kernel.accessAllowed) {\n",
              "        return;\n",
              "      }\n",
              "      const div = document.createElement('div');\n",
              "      const label = document.createElement('label');\n",
              "      label.textContent = `Downloading \"${filename}\": `;\n",
              "      div.appendChild(label);\n",
              "      const progress = document.createElement('progress');\n",
              "      progress.max = size;\n",
              "      div.appendChild(progress);\n",
              "      document.body.appendChild(div);\n",
              "\n",
              "      const buffers = [];\n",
              "      let downloaded = 0;\n",
              "\n",
              "      const channel = await google.colab.kernel.comms.open(id);\n",
              "      // Send a message to notify the kernel that we're ready.\n",
              "      channel.send({})\n",
              "\n",
              "      for await (const message of channel.messages) {\n",
              "        // Send a message to notify the kernel that we're ready.\n",
              "        channel.send({})\n",
              "        if (message.buffers) {\n",
              "          for (const buffer of message.buffers) {\n",
              "            buffers.push(buffer);\n",
              "            downloaded += buffer.byteLength;\n",
              "            progress.value = downloaded;\n",
              "          }\n",
              "        }\n",
              "      }\n",
              "      const blob = new Blob(buffers, {type: 'application/binary'});\n",
              "      const a = document.createElement('a');\n",
              "      a.href = window.URL.createObjectURL(blob);\n",
              "      a.download = filename;\n",
              "      div.appendChild(a);\n",
              "      a.click();\n",
              "      div.remove();\n",
              "    }\n",
              "  "
            ]
          },
          "metadata": {}
        },
        {
          "output_type": "display_data",
          "data": {
            "text/plain": [
              "<IPython.core.display.Javascript object>"
            ],
            "application/javascript": [
              "download(\"download_cc2590ab-9dfc-4899-b583-8de57e924ed6\", \"final_job_data_complete.csv\", 27646)"
            ]
          },
          "metadata": {}
        }
      ],
      "source": [
        "df[[\n",
        "    'filename', 'organization', 'job_title', 'sector', 'job_type',\n",
        "    'location', 'posting_date', 'skills'\n",
        "]].to_csv('final_job_data_complete.csv', index=False)\n",
        "files.download('final_job_data_complete.csv')"
      ]
    },
    {
      "cell_type": "code",
      "source": [],
      "metadata": {
        "id": "z9w0ldteJvGB"
      },
      "id": "z9w0ldteJvGB",
      "execution_count": null,
      "outputs": []
    }
  ],
  "metadata": {
    "colab": {
      "provenance": [],
      "include_colab_link": true
    },
    "language_info": {
      "name": "python"
    },
    "kernelspec": {
      "name": "python3",
      "display_name": "Python 3"
    }
  },
  "nbformat": 4,
  "nbformat_minor": 5
}