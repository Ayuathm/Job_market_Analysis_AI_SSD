{
  "cells": [
    {
      "cell_type": "markdown",
      "metadata": {
        "id": "view-in-github",
        "colab_type": "text"
      },
      "source": [
        "<a href=\"https://colab.research.google.com/github/Ayuathm/Job_matching_Analysis_AI_SSD/blob/main/Job_Text_Extraction_Notebook.ipynb\" target=\"_parent\"><img src=\"https://colab.research.google.com/assets/colab-badge.svg\" alt=\"Open In Colab\"/></a>"
      ]
    },
    {
      "cell_type": "markdown",
      "metadata": {
        "id": "gFWBGU-coN3V"
      },
      "source": [
        "# 📄 Job Attachment Text Extraction (PDF + DOCX with OCR)\n",
        "\n",
        "This notebook extracts text from job advert attachments, including scanned PDFs using OCR, and saves it for further analysis."
      ]
    },
    {
      "cell_type": "code",
      "execution_count": 1,
      "metadata": {
        "colab": {
          "base_uri": "https://localhost:8080/"
        },
        "id": "ccT6UmfsoN3W",
        "outputId": "70e3f4c4-db2d-4325-e8fe-3a0410765dca"
      },
      "outputs": [
        {
          "output_type": "stream",
          "name": "stdout",
          "text": [
            "Reading package lists... Done\n",
            "Building dependency tree... Done\n",
            "Reading state information... Done\n",
            "tesseract-ocr is already the newest version (4.1.1-2.1build1).\n",
            "The following NEW packages will be installed:\n",
            "  poppler-utils\n",
            "0 upgraded, 1 newly installed, 0 to remove and 35 not upgraded.\n",
            "Need to get 186 kB of archives.\n",
            "After this operation, 697 kB of additional disk space will be used.\n",
            "Get:1 http://archive.ubuntu.com/ubuntu jammy-updates/main amd64 poppler-utils amd64 22.02.0-2ubuntu0.8 [186 kB]\n",
            "Fetched 186 kB in 0s (425 kB/s)\n",
            "Selecting previously unselected package poppler-utils.\n",
            "(Reading database ... 126109 files and directories currently installed.)\n",
            "Preparing to unpack .../poppler-utils_22.02.0-2ubuntu0.8_amd64.deb ...\n",
            "Unpacking poppler-utils (22.02.0-2ubuntu0.8) ...\n",
            "Setting up poppler-utils (22.02.0-2ubuntu0.8) ...\n",
            "Processing triggers for man-db (2.10.2-1) ...\n",
            "Collecting pdf2image\n",
            "  Downloading pdf2image-1.17.0-py3-none-any.whl.metadata (6.2 kB)\n",
            "Collecting pytesseract\n",
            "  Downloading pytesseract-0.3.13-py3-none-any.whl.metadata (11 kB)\n",
            "Collecting python-docx\n",
            "  Downloading python_docx-1.1.2-py3-none-any.whl.metadata (2.0 kB)\n",
            "Collecting docx2txt\n",
            "  Downloading docx2txt-0.9-py3-none-any.whl.metadata (529 bytes)\n",
            "Collecting PyMuPDF\n",
            "  Downloading pymupdf-1.26.0-cp39-abi3-manylinux2014_x86_64.manylinux_2_17_x86_64.whl.metadata (3.4 kB)\n",
            "Requirement already satisfied: pillow in /usr/local/lib/python3.11/dist-packages (from pdf2image) (11.2.1)\n",
            "Requirement already satisfied: packaging>=21.3 in /usr/local/lib/python3.11/dist-packages (from pytesseract) (24.2)\n",
            "Requirement already satisfied: lxml>=3.1.0 in /usr/local/lib/python3.11/dist-packages (from python-docx) (5.4.0)\n",
            "Requirement already satisfied: typing-extensions>=4.9.0 in /usr/local/lib/python3.11/dist-packages (from python-docx) (4.13.2)\n",
            "Downloading pdf2image-1.17.0-py3-none-any.whl (11 kB)\n",
            "Downloading pytesseract-0.3.13-py3-none-any.whl (14 kB)\n",
            "Downloading python_docx-1.1.2-py3-none-any.whl (244 kB)\n",
            "\u001b[2K   \u001b[90m━━━━━━━━━━━━━━━━━━━━━━━━━━━━━━━━━━━━━━━━\u001b[0m \u001b[32m244.3/244.3 kB\u001b[0m \u001b[31m8.7 MB/s\u001b[0m eta \u001b[36m0:00:00\u001b[0m\n",
            "\u001b[?25hDownloading docx2txt-0.9-py3-none-any.whl (4.0 kB)\n",
            "Downloading pymupdf-1.26.0-cp39-abi3-manylinux2014_x86_64.manylinux_2_17_x86_64.whl (24.1 MB)\n",
            "\u001b[2K   \u001b[90m━━━━━━━━━━━━━━━━━━━━━━━━━━━━━━━━━━━━━━━━\u001b[0m \u001b[32m24.1/24.1 MB\u001b[0m \u001b[31m81.8 MB/s\u001b[0m eta \u001b[36m0:00:00\u001b[0m\n",
            "\u001b[?25hInstalling collected packages: docx2txt, python-docx, pytesseract, PyMuPDF, pdf2image\n",
            "Successfully installed PyMuPDF-1.26.0 docx2txt-0.9 pdf2image-1.17.0 pytesseract-0.3.13 python-docx-1.1.2\n"
          ]
        }
      ],
      "source": [
        "# ✅ Step 1: Install required packages\n",
        "!apt-get install poppler-utils tesseract-ocr -y\n",
        "!pip install pdf2image pytesseract python-docx docx2txt PyMuPDF"
      ]
    },
    {
      "cell_type": "code",
      "execution_count": 3,
      "metadata": {
        "colab": {
          "base_uri": "https://localhost:8080/"
        },
        "id": "TdlhC13DoN3X",
        "outputId": "7ede182f-2e11-4745-e7bc-e8b7d1811c6d"
      },
      "outputs": [
        {
          "output_type": "stream",
          "name": "stdout",
          "text": [
            "Mounted at /content/drive\n"
          ]
        }
      ],
      "source": [
        "# ✅ Step 2: Mount Google Drive\n",
        "from google.colab import drive\n",
        "drive.mount('/content/drive')"
      ]
    },
    {
      "cell_type": "code",
      "execution_count": 7,
      "metadata": {
        "id": "rWY43-rYoN3Y"
      },
      "outputs": [],
      "source": [
        "# ✅ Step 3: Define utility functions for extraction\n",
        "import os\n",
        "import fitz  # PyMuPDF\n",
        "import pytesseract\n",
        "import docx2txt\n",
        "import pandas as pd\n",
        "from pdf2image import convert_from_path\n",
        "from PIL import Image\n",
        "\n",
        "# 👇 UPDATE your folder path\n",
        "attachments_folder = \"/content/drive/MyDrive/Job_posts\"\n",
        "\n",
        "def extract_text_from_pdf(file_path):\n",
        "    try:\n",
        "        text = \"\"\n",
        "        with fitz.open(file_path) as doc:\n",
        "            for page in doc:\n",
        "                page_text = page.get_text()\n",
        "                if page_text.strip():\n",
        "                    text += page_text\n",
        "        if text.strip():\n",
        "            return text\n",
        "        else:\n",
        "            images = convert_from_path(file_path)\n",
        "            ocr_text = \"\"\n",
        "            for img in images:\n",
        "                ocr_text += pytesseract.image_to_string(img)\n",
        "            return ocr_text\n",
        "    except Exception as e:\n",
        "        return f\"ERROR: {e}\"\n",
        "\n",
        "def extract_text_from_docx(file_path):\n",
        "    try:\n",
        "        return docx2txt.process(file_path)\n",
        "    except Exception as e:\n",
        "        return f\"ERROR: {e}\""
      ]
    },
    {
      "cell_type": "code",
      "execution_count": 5,
      "metadata": {
        "id": "IJ7jb6iJoN3Y"
      },
      "outputs": [],
      "source": [
        "# ✅ Step 4: Run extraction for all files\n",
        "all_files = [f for f in os.listdir(attachments_folder) if f.lower().endswith(('.pdf', '.docx'))]\n",
        "extracted_data = []\n",
        "\n",
        "for file in all_files:\n",
        "    full_path = os.path.join(attachments_folder, file)\n",
        "    if file.lower().endswith('.pdf'):\n",
        "        text = extract_text_from_pdf(full_path)\n",
        "    elif file.lower().endswith('.docx'):\n",
        "        text = extract_text_from_docx(full_path)\n",
        "    else:\n",
        "        text = \"Unsupported\"\n",
        "    extracted_data.append({\"filename\": file, \"text\": text})"
      ]
    },
    {
      "cell_type": "code",
      "execution_count": 6,
      "metadata": {
        "colab": {
          "base_uri": "https://localhost:8080/",
          "height": 1219
        },
        "id": "c6F0p5k8oN3Z",
        "outputId": "e42b46d5-f203-4ee6-cb00-6ea365eb4d52"
      },
      "outputs": [
        {
          "output_type": "stream",
          "name": "stdout",
          "text": [
            "✅ Extracted text saved to: /content/drive/MyDrive/Test/extracted_job_texts.csv\n"
          ]
        },
        {
          "output_type": "execute_result",
          "data": {
            "text/plain": [
              "                                  filename  \\\n",
              "0  Copy of pR3KtVwBfJvhWczq7c76Pz05wEa.pdf   \n",
              "\n",
              "                                                text  \n",
              "0  South Sudan\\nRed Cross\\n\\n \\n\\nTERMS OF REFERE...  "
            ],
            "text/html": [
              "\n",
              "  <div id=\"df-5f5e6c27-857f-4e58-a735-990a48ab71ad\" class=\"colab-df-container\">\n",
              "    <div>\n",
              "<style scoped>\n",
              "    .dataframe tbody tr th:only-of-type {\n",
              "        vertical-align: middle;\n",
              "    }\n",
              "\n",
              "    .dataframe tbody tr th {\n",
              "        vertical-align: top;\n",
              "    }\n",
              "\n",
              "    .dataframe thead th {\n",
              "        text-align: right;\n",
              "    }\n",
              "</style>\n",
              "<table border=\"1\" class=\"dataframe\">\n",
              "  <thead>\n",
              "    <tr style=\"text-align: right;\">\n",
              "      <th></th>\n",
              "      <th>filename</th>\n",
              "      <th>text</th>\n",
              "    </tr>\n",
              "  </thead>\n",
              "  <tbody>\n",
              "    <tr>\n",
              "      <th>0</th>\n",
              "      <td>Copy of pR3KtVwBfJvhWczq7c76Pz05wEa.pdf</td>\n",
              "      <td>South Sudan\\nRed Cross\\n\\n \\n\\nTERMS OF REFERE...</td>\n",
              "    </tr>\n",
              "  </tbody>\n",
              "</table>\n",
              "</div>\n",
              "    <div class=\"colab-df-buttons\">\n",
              "\n",
              "  <div class=\"colab-df-container\">\n",
              "    <button class=\"colab-df-convert\" onclick=\"convertToInteractive('df-5f5e6c27-857f-4e58-a735-990a48ab71ad')\"\n",
              "            title=\"Convert this dataframe to an interactive table.\"\n",
              "            style=\"display:none;\">\n",
              "\n",
              "  <svg xmlns=\"http://www.w3.org/2000/svg\" height=\"24px\" viewBox=\"0 -960 960 960\">\n",
              "    <path d=\"M120-120v-720h720v720H120Zm60-500h600v-160H180v160Zm220 220h160v-160H400v160Zm0 220h160v-160H400v160ZM180-400h160v-160H180v160Zm440 0h160v-160H620v160ZM180-180h160v-160H180v160Zm440 0h160v-160H620v160Z\"/>\n",
              "  </svg>\n",
              "    </button>\n",
              "\n",
              "  <style>\n",
              "    .colab-df-container {\n",
              "      display:flex;\n",
              "      gap: 12px;\n",
              "    }\n",
              "\n",
              "    .colab-df-convert {\n",
              "      background-color: #E8F0FE;\n",
              "      border: none;\n",
              "      border-radius: 50%;\n",
              "      cursor: pointer;\n",
              "      display: none;\n",
              "      fill: #1967D2;\n",
              "      height: 32px;\n",
              "      padding: 0 0 0 0;\n",
              "      width: 32px;\n",
              "    }\n",
              "\n",
              "    .colab-df-convert:hover {\n",
              "      background-color: #E2EBFA;\n",
              "      box-shadow: 0px 1px 2px rgba(60, 64, 67, 0.3), 0px 1px 3px 1px rgba(60, 64, 67, 0.15);\n",
              "      fill: #174EA6;\n",
              "    }\n",
              "\n",
              "    .colab-df-buttons div {\n",
              "      margin-bottom: 4px;\n",
              "    }\n",
              "\n",
              "    [theme=dark] .colab-df-convert {\n",
              "      background-color: #3B4455;\n",
              "      fill: #D2E3FC;\n",
              "    }\n",
              "\n",
              "    [theme=dark] .colab-df-convert:hover {\n",
              "      background-color: #434B5C;\n",
              "      box-shadow: 0px 1px 3px 1px rgba(0, 0, 0, 0.15);\n",
              "      filter: drop-shadow(0px 1px 2px rgba(0, 0, 0, 0.3));\n",
              "      fill: #FFFFFF;\n",
              "    }\n",
              "  </style>\n",
              "\n",
              "    <script>\n",
              "      const buttonEl =\n",
              "        document.querySelector('#df-5f5e6c27-857f-4e58-a735-990a48ab71ad button.colab-df-convert');\n",
              "      buttonEl.style.display =\n",
              "        google.colab.kernel.accessAllowed ? 'block' : 'none';\n",
              "\n",
              "      async function convertToInteractive(key) {\n",
              "        const element = document.querySelector('#df-5f5e6c27-857f-4e58-a735-990a48ab71ad');\n",
              "        const dataTable =\n",
              "          await google.colab.kernel.invokeFunction('convertToInteractive',\n",
              "                                                    [key], {});\n",
              "        if (!dataTable) return;\n",
              "\n",
              "        const docLinkHtml = 'Like what you see? Visit the ' +\n",
              "          '<a target=\"_blank\" href=https://colab.research.google.com/notebooks/data_table.ipynb>data table notebook</a>'\n",
              "          + ' to learn more about interactive tables.';\n",
              "        element.innerHTML = '';\n",
              "        dataTable['output_type'] = 'display_data';\n",
              "        await google.colab.output.renderOutput(dataTable, element);\n",
              "        const docLink = document.createElement('div');\n",
              "        docLink.innerHTML = docLinkHtml;\n",
              "        element.appendChild(docLink);\n",
              "      }\n",
              "    </script>\n",
              "  </div>\n",
              "\n",
              "\n",
              "    </div>\n",
              "  </div>\n"
            ],
            "application/vnd.google.colaboratory.intrinsic+json": {
              "type": "dataframe",
              "variable_name": "df",
              "summary": "{\n  \"name\": \"df\",\n  \"rows\": 1,\n  \"fields\": [\n    {\n      \"column\": \"filename\",\n      \"properties\": {\n        \"dtype\": \"string\",\n        \"num_unique_values\": 1,\n        \"samples\": [\n          \"Copy of pR3KtVwBfJvhWczq7c76Pz05wEa.pdf\"\n        ],\n        \"semantic_type\": \"\",\n        \"description\": \"\"\n      }\n    },\n    {\n      \"column\": \"text\",\n      \"properties\": {\n        \"dtype\": \"string\",\n        \"num_unique_values\": 1,\n        \"samples\": [\n          \"South Sudan\\nRed Cross\\n\\n \\n\\nTERMS OF REFERENCE\\n\\nCBFHA End-line Evaluation Consultancy\\n1-30\\\" November 2020\\n\\nOrganizational Background:\\n\\nThe South Sudan Red Cross (SSRC) is one of the 193 National Societies worldwide and was\\nfounded on the eve of South Sudan independence in 2011. The SSRC is a volunteer-based\\nhumanitarian society and works as auxiliary to the public authorities in the humanitarian field.\\nBased on the Statutes of the International Red Cross and Red Crescent Movement, the SSRC was\\nestablished through an Act of Parliament on 9 March 2012.\\n\\nSSRC was formally recognized by the International Committee of the Red Cross (ICRC) on 18\\nJune 2013 and in November 2013 the SSRC was admitted into the International Federation of\\nRed Cross and Red Crescent Societies. SSRC\\u2019s headquarters is based in Juba with a total of (17)\\nbranches and a growing network of units. There are currently over 227 SSRC staff members\\nacross the country and approximately 14,000 volunteers across the country.\\n\\nThe society's work is guided by seven fundamental principles (Humanity, Impartiality,\\nNeutrality, Independence, Voluntary Service, Unity and Universality) and by Strategy 2030 of\\nthe IFRC, which voices our collective vision and determination to move forward in tackling the\\nmajor challenges that confront humanity in the present decade. All our staff MUST abide by and\\nwork in accordance with the Red Cross and Red Crescent principles\\n\\nHumanitarian Background:\\n\\nINFORM rates south Sudan's risk of humanitarian crisis and disaster as the world's second\\nhighest, after Somalia at 9.0/10. The exposure to hazards is rated at 8.3/10; lack of coping\\ncapacity at 9.3/10 and vulnerability at 9.4/10.\\n\\nThe four-decade civil war has not only caused population displacement, but also destroyed\\nlivelihoods, eroded coping capacities of affected communities and left the country in economic\\ndecline, lacking basic services and infrastructure. Despite its oil wealth and large mobilisation of\\nhumanitarian aid to the country, South Sudan has remained one of the world\\u2019s least developed\\ncountries and ranks 187th out of 189 countries on UNDP\\u2019s Human Development Index in 2018.\\n\\fMost of the population lives off farming, while smaller numbers rely on livestock. More than\\n80% of the populace lives in rural areas.\\n\\nWestern Bahr el Ghazal province where the project area Wau is located is estimated to have\\n162,699 internally displaced persons -IDPs (UNOCHA HRP 2019). Some of the IDPs are hosted\\nin camps while others are living within the host communities, increasing demand on already\\ndiminished basic social services and infrastructure especially in health, water, sanitation and\\nhygiene. According to ICRC, the region continued to experience active conflict in 2018\\nrestricting humanitarian access to affected communities; including causing danger to health care\\nand facilities. Communities being unable to access the needed lifesaving support push them\\nfurther into crisis.\\n\\nNorwegian Red Cross (Norcross) has supported projects in Wau branch since 2015 and is\\ncurrently the only Partner National Society supporting SSRC in Wau state. A Norcross program\\nreview conducted in 2018 identified shorter duration of intervention in selected communities\\n(usually working only 12 months in selected communities) as a weakness and suggested\\nintegration of Boma Health Initiative (BHI) into the project activities.\\n\\nHumanitarian needs and challenges for the targeted community are multi-Sectoral including\\nhealth, WASH, food security and livelihoods, protection, nutrition, education as well as\\nemergency non-food items.\\n\\nHigh disease burden especially communicable diseases are the main cause of morbidity.\\nChildren under five mostly suffer from malaria, pneumonia and diarrheal diseases while adults\\nsimilarly suffer from malaria, diarrheal diseases (including dysentery), Acute Respiratory\\nInfections, HIV and even Anthrax. Anthrax is occasionally reported mostly in communities (like\\nKuom in Wau) where people are in the practice of communal eating of dead cattle. Consultation\\nwith community members (IDSR 2018) echoed the need for long-lasting insecticide treated nets\\ngiven the high population of mosquitoes, prevalence of malaria and yet treatment is costly, and\\nsometime accessed too late. The increasing susceptibility to communicable diseases is directly\\nlinked to the poor access to safe water, inadequate sanitation or even soap. Open defecation is the\\nnorm, due to absence of latrines. Open defecation not only causes diarrheal diseases, but also\\npropagates the transmission of worms (soil helminths) which compete for nutrients with the body\\ncausing stunting, anaemia and Vitamin A deficiencies. The attitude of communities towards use\\nof latrines is alarming as they have other pressing needs and construction of latrines are not a\\npriority.\\n\\nThere is need to reduce the prevalence of communicable diseases through adoption of\\nappropriate family health and WASH practices at household and community levels. This\\nincludes change in attitude among community members in order to achieve sustainable\\nbehavioural change.\\n\\nPoor access to health care services is the outcome of several factors but largely the broken\\nhealth system in South Sudan. The lowest level of health care delivery (Primary health care units\\nPHCUs) is where majority of patients are supposed to be attended. In Wau, PHCUs are facing\\n\\faccess to, and demand for health care services in the targeted community; complimented by\\nfacilitation of life-saving services at selected PHCU facilities serving the targeted communities.\\nComponents of CEA have been included. WASH project which was standalone project had been\\nmerged to compliment this project, where water, hygiene and sanitation activities will be\\nimplement in specific project locations\\n\\nStudy Area:\\n\\nThe survey will be conducted in Bararud, Dakau, Rocrocdong, Kuom, Baryar, Mbili, Akorok all\\nlocated in Wau county/Payam, Western Bahr el Ghazal state in South Sudan. The project is\\noverall managed by 12 staff from the SSRC Branch in Wau. The overall project impact goal is to\\ncontribute to reduction of excess mortality and morbidity among targeted vulnerable\\ncommunities in Wau County, through promotion and adoption of appropriate family health\\nbehaviours, improved access to basic health services and WASH services; as well as improved\\ncapacity to prepare for, respond to and recover from outbreaks and other disasters.\\n\\nPurpose:\\n\\nIn line with the grant agreement and project proposal document, a final project evaluation will be\\nconducted at the end of implementation in order to assess the completeness and effectiveness of\\nthe project deliverables, achievements realized, take stock of the positive and negative changes\\nbrought about as a result of this action. Basically, the outcome of this evaluation exercise will\\nprovide very useful pieces of learning to inform any future scale up efforts or design of a phase\\nIII of the project and future projects.\\n\\nObjectives:\\n\\nThis final evaluation exercise will seek to achieve the following objectives:\\n\\n1. To assess the level of completeness and timeliness of all project deliverables as per the\\napproved work plan (plan of Action) including the achievement of the project logframe\\nindicators on outcome and output level.\\n\\n2. To assess the impact and the effectiveness of all project activities - community level\\nsensitization activities carried out by staff and volunteers on various themes including\\nhygiene and sanitation promotion, nutrition, general health, protection, construction/\\nrehabilitation of infrastructure such as institutional latrines and water points, and\\nprovision of supplies to staff, volunteers, community-based groups and_ other\\nstakeholders. Did the project achieve any behavior change, and if yes, what changes, to\\nwhat degree, how do the changes manifest themselves, and what are the implications and\\nconsequences. etc.\\n\\n3. To assess the level of community engagement and accountability (CEA) across all stages\\nof the project cycle management.\\n\\fseveral challenges including inadequate medical supplies and drugs; lack of basic amenities\\nincluding electricity, safe water; and lack of critical life-saving equipment (delivery beds, and\\ncold chain for vaccine storage). As a result, the health service package is compromised with no\\nvaccination services, maternity services, or laboratory services. This leaves only outpatient\\nconsultations, rapid diagnostic test for malaria and very basic treatment options. Routine\\ndeworming is not done.\\n\\nQualified human resources for health (e.g. doctors, nurses, midwives, dispenser, etc.) are few,\\nunavailable, unwilling to work in remote locations and demotivated. PHCUs in Wau are mostly\\nrun by Community Health Workers and antenatal care provided by traditional birth attendants\\nwho are not professionally \\u2018skilled\\u2019. Some of these staff at PHCUs aren\\u2019t on Government payroll\\nand therefore their output is below required standard. PHCUs are open for limited hours during\\nthe week and closed on weekends which further reduce access to services.\\n\\nCommunity Health approach by Norcross-supported CBHFA project is promoting adoption of\\nappropriate family health practices by communities e.g. routine vaccination for children,\\npregnant mothers to attend antenatal care and skilled birth attendance. These services are not\\nreadily available to the community; therefore, promoting such practice creates a demand for\\nservices that are not accessible. This is frustrating for both the community and the SSRC\\nvolunteers who are the community health promoters.\\n\\nWater and sanitation infrastructure in Wau are very limited. The main water source is\\ngroundwater with access through boreholes or traditional open wells. Open wells are seasonal\\nand have no protective measures hence cannot be seen as safe water source. There is a serious\\nlack of maintenance of hand pumps meaning the community does not have access to\\ngroundwater and are using unsafe water sources as rivers and ponds. Spare parts for hand pumps\\nare available in Wau but due to long distance and/or expensive transport; it is limited what the\\ncommunities can afford. The slabs are not maintained and protected with a fence. There is no\\nsoak away pits to avoid stagnant water. Excess water around the pumps could be used for\\nlivestock or gardening. Distance to water point take up a lot of time and gives especially women\\nless time for IGAs.\\n\\nCommunities are practicing open defecation, They claim some use of \\u201ccat method\\u201d but assumed\\nto be very limited. Schools and PHCU have latrines but the amount and quality are very limited.\\nMaintenance is more or less non-existing, and latrines are not clean, lacking slab-cover, flytrap,\\nsome locks/doors and hence not used.\\n\\nHygiene knowledge among the communities is also limited but where SSRC has been active,\\nthey know the basics like critical times to wash hands, covering food, maintaining clean water\\ncontainers and keeping the environment clean. It is still a gap between knowledge and practice\\ndue to lack of infrastructure and soap. This makes it hard to follow advice or change behaviour,\\nso the effect of hygiene awareness and promotion is limited.\\n\\nIn order to address identified humanitarian needs in situation analysis above, this project\\nproposes to integrate health, WASH and psychosocial support (PSS) interventions. The project\\nwill not only promote appropriate behavioural change at household level; but also increase\\n\\f4. To find out whether all hardware/ construction activities have been carried out according\\nto specifications.\\n\\n5. To find out whether there is any evidence of spillover effect of this action in the\\ncommunities and other communities not covered by the project.\\n\\n6. To ascertain level of beneficiary community capacity to sustain some of the benefits from\\nthe action.\\n\\n7. To assess the level of SSRC collaboration and coordination with county, state and\\nnational stakeholders in the planning and implementation of the project.\\n\\nMethodology:\\n\\nThe survey should employ both quantitative and qualitative methods and will be conducted by an\\nexternal consultant who will be expected to come up with a detailed methodology for conducting\\nthe survey, taking into consideration the local context.\\n\\nThe consultant will develop appropriate tools and will also suggest an appropriate sampling\\nmethodology and sample size that is statistically valid and cost effective. The sample size and\\nproposed tools will be discussed and approved by the SSRC PMER Unit and technical project\\nteam before the start of the survey.\\n\\nScope of Work:\\n\\nThe SSRC PMER Unit will supervise the survey in Bararud, Dakau, Rocrocdong, Kuom, Baryar,\\nMbili, Akorok. The Consultant under the supervision of PMER Coordinator shall coordinate the\\nsurvey team members and shall conduct the endline evaluation to the required quality standards.\\n\\nSample Size:\\n\\nThe Consultant will determine the appropriate sample sizes considering the geographical areas,\\ntargeted groups, and the homogeneity and heterogeneity of the target population.\\n\\nKey Deliverables:\\n\\ne Development of an inception report highlighting details of the deliverables and\\nmethodologies, detailed tools, and instruments. First, the inception report will be approved by\\nSSRC before allowing any survey activities. The agreement with the consulting company can\\nbe cancelled if the inception report is not approved. This would include all practical\\noperational tools that would be deployed in the survey, the enumerators to be engaged in the\\nsurvey and the work plan including survey and report deliveries.\\n\\ne Enumerators training and survey questionnaire testing - the Consultant will be responsible to\\ntrain the enumerators which is agreed as per inception report, and test the tools agreed.\\nRefinement will be checked after field testing.\\n\\fe Survey execution - according to the agreed sample size and area, beneficiary/ community and\\nstakeholder coverage. If possible, the data collection should be conducted with the support of\\nKobo collect and GPS to map the respondents for future reference.\\n\\ne First draft endline report - the outline for this delivery could be agreed in the inception report,\\nbut it should meet the survey objectives put in this TOR. The timing frame is also be\\nincluded in this TOR, see below.\\n\\nFinal Report Requirements:\\n\\nThe Consultant is accountable to maintain the requirements for the content, format, and length of\\nthe final report, overall quality and agreed timelines. The Consultant will produce a\\ncomprehensive report that defines and validates pre-intervention exposure conditions for the set\\nof indicators that will be used and also provides information base to assess achievement of the\\noutcomes and impact expressed in the program\\u2019s logical framework.\\n\\nData Disclosure:\\n\\n \\n\\nThe Consultant should deliver, at minimum, all files including: quantitative data sets (raw\\nand refined products), transcripts of qualitative data and others in an easy to read format,\\nand maintain naming conventions and labelling for the use of the project/ program/\\ninitiative and key stakeholders.\\n\\nData must be disaggregated by gender, age and other relevant diversity, etc.\\n\\nDatasets must be anonymized with all identifying information removed. Each individual\\nor household should be assigned a unique identifier. Datasets which have been\\nanonymized will be accompanied by a password protected identifier key document to\\nensure that we are able to return to households or individuals for follow up.\\n\\nStakeholders with access to this document will be limited and defined in collaboration\\nwith SSRC during evaluation inception. The Consultant is not allowed to share data,\\nfindings, reports etc of this survey, except with the written approval of SSRC.\\n\\nAdministrative Arrangement:\\n\\nSSRC Responsibility:\\n\\nSupervise the work of the Consultant under the responsibility of the PMER Coordinator.\\nAll communications should be addressed to the SSRC PMER Coordinator.\\n\\nEnsure the ethics and transparency are upheld during the evaluation\\n\\nResponsible for organizing meetings with the different stakeholders during the survey\\nConsult local authorities for acceptance of the Consultant in the communities\\n\\nAll necessary documents will be provided in soft copy by SSRC.\\n\\nConsultant Responsibility:\\n\\fe Ensure the actual survey is conducted as per the TOR\\ne Ensure that the time scheduled is adhered to\\ne Responsible for his or her stationaries and other items needed for the evaluation\\ne International and national flights/travel will be at the Consultant\\u2019s responsibility.\\ne Consultancy fee is expected to cover the Consultant\\u2019s transport, subsistence needs (food,\\naccommodation and security)\\nWork Plan:\\n\\nThe entire duration for this evaluation will be 30 selected days over the period 1\\u201c -30\\\"\\nNovember 2020\\n\\nDeliverable\\n\\n     \\n        \\n         \\n     \\n \\n  \\n\\nDuration\\n\\n1\\u00b0 week of November\\n2020\\n\\n  \\n  \\n\\n     \\n       \\n\\nInception report after first meeting with\\nproject staff/ SSRC PMER Unit (Coordinator\\nand team)\\n2020\\nPrepare final questionnaires 2\\u2122 week of November\\n2020\\nData collection exercise 2\\\" to 3 week of\\nNovember 2020\\nData analysis 3\\u00b0 week of November\\n2020\\n| Facilitate stakeholder\\u2019s validation workshop 3\\u00b0 week of November\\n2020\\nPrepare draft evaluation report 4\\\" week of November\\n2020\\n| Finalize evaluation report\\n2020\\n\\n  \\n\\n  \\n\\nBudget:\\n\\nType USS\\nri. |Consultantcost | S| SCT\\n(2. [Datacollection | | |\\n/3.| Stakeholder workshop | S| S|\\n[4 [Contingencycost | | SL\\nTr \\u2014SCioral\\u2014SSOCdDS TTTTTOOCOCOOCCSCSCSSSSCSd\\n\\nN\\n\\n    \\n\\nUS$\\n\\n\\u00b0\\n\\u00b0\\n\\n     \\n  \\n\\n \\n  \\n\\fQualification Requirements:\\n\\nEducation:\\n\\ne Relevant Masters\\u2019 degree in one or more of following areas: Public Health (MSPH,\\nMPH), Epidemiology, Demography or any other relevant related field or bachelor\\u2019s\\ndegree in the related field with significant experience in conducting similar studies.\\n\\nWork Experience:\\n\\ne Over 5 years proven experience in undertaking similar studies and familiar with South\\nSudan context, particularly in community health and health system strengthening;\\ne Proven knowledge and practical experience in quantitative and qualitative research,\\n\\nTechnical Competencies:\\n\\ne Excellent knowledge and skills in humanitarian programing and standards including core\\nhumanitarian standards;\\n\\ne Knowledge of health in emergency programming and community health;\\n\\ne Comprehensive knowledge about participatory data collection methodology and digital\\ndata collection;\\n\\ne Knowledge and understanding of community involvement in programming and planning;\\n\\ne Excellent organizing, facilitating, presentation, communication and report writing skills.\\n\\nPayment Modalities:\\n\\nThe Consultant will have to provide the following documents before payment is effected, and it\\nshould be noted that the payment will be 100% at the completion of the work and only by cheque\\n\\no Final report for the evaluation/ survey\\n\\no The contents of the report will be analyzed, and final payment will only be made upon\\nagreement on the final report from South Sudan Red Cross and Swiss Red Cross.\\n\\nSubmission Deadline:\\n\\n \\n\\nInterested applicants/ firms are expected to submit hard copies (hand delivered) of their\\ndetailed CVs showing previous similar experiences and a detailed technical narrative and\\nfinancial proposal of not more than five pages (excluding annexes and past performance\\nreferences, certificates of registration (updated)), illustrating their competencies and clearly\\narticulating the strategies they would use, to the SSRC offices, Tongpiny Area, Ministries Block,\\nJuba, South Sudan. Please include the name and telephone number of the contact person for the\\napplication or soft copies sent to vacancy@ssdredcross.org, copying tender@ssdredcross.or\\n\\n \\n\\nDeadline for expression of interest is on 19\\\" October 2020.\\n\\n \\n\\f\"\n        ],\n        \"semantic_type\": \"\",\n        \"description\": \"\"\n      }\n    }\n  ]\n}"
            }
          },
          "metadata": {},
          "execution_count": 6
        }
      ],
      "source": [
        "# ✅ Step 5: Save extracted data to CSV\n",
        "df = pd.DataFrame(extracted_data)\n",
        "output_path = os.path.join(attachments_folder, \"extracted_job_texts.csv\")\n",
        "df.to_csv(output_path, index=False)\n",
        "print(f\"✅ Extracted text saved to: {output_path}\")\n",
        "df.head()"
      ]
    },
    {
      "cell_type": "code",
      "source": [],
      "metadata": {
        "id": "XibJXNqTqURl"
      },
      "execution_count": null,
      "outputs": []
    }
  ],
  "metadata": {
    "kernelspec": {
      "display_name": "Python 3",
      "language": "python",
      "name": "python3"
    },
    "language_info": {
      "name": "python",
      "version": ""
    },
    "colab": {
      "provenance": [],
      "include_colab_link": true
    }
  },
  "nbformat": 4,
  "nbformat_minor": 0
}